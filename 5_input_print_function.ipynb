{
 "cells": [
  {
   "attachments": {
    "image.png": {
     "image/png": "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"
    }
   },
   "cell_type": "markdown",
   "id": "dab41a93",
   "metadata": {
    "direction": "rtl"
   },
   "source": [
    "<center>\n",
    "\n",
    "## دالة الادخال و الاخراج\n",
    "\n",
    "</center>\n",
    "\n",
    "![image.png](attachment:image.png)\n",
    "\n"
   ]
  },
  {
   "cell_type": "markdown",
   "id": "2ba6f57c",
   "metadata": {},
   "source": [
    "## print()"
   ]
  },
  {
   "cell_type": "code",
   "execution_count": 20,
   "id": "5af79357",
   "metadata": {},
   "outputs": [
    {
     "name": "stdout",
     "output_type": "stream",
     "text": [
      "10\n"
     ]
    }
   ],
   "source": [
    "a = 10\n",
    "\n",
    "print(a)"
   ]
  },
  {
   "cell_type": "code",
   "execution_count": 21,
   "id": "e01dc411",
   "metadata": {},
   "outputs": [
    {
     "name": "stdout",
     "output_type": "stream",
     "text": [
      "a =  10\n"
     ]
    }
   ],
   "source": [
    "a = 10\n",
    "\n",
    "print(\"a = \", a)"
   ]
  },
  {
   "cell_type": "code",
   "execution_count": 22,
   "id": "9b150d7d",
   "metadata": {},
   "outputs": [
    {
     "name": "stdout",
     "output_type": "stream",
     "text": [
      "a = 10\n"
     ]
    }
   ],
   "source": [
    "a = 10\n",
    "\n",
    "print(f\"a = {a}\")"
   ]
  },
  {
   "cell_type": "code",
   "execution_count": 19,
   "id": "7c729d4d",
   "metadata": {},
   "outputs": [
    {
     "name": "stdout",
     "output_type": "stream",
     "text": [
      "a = 10\n"
     ]
    }
   ],
   "source": [
    "a = 10\n",
    "\n",
    "print(\"a = %s\" %a)"
   ]
  },
  {
   "cell_type": "code",
   "execution_count": 23,
   "id": "31aba3fd",
   "metadata": {},
   "outputs": [
    {
     "name": "stdout",
     "output_type": "stream",
     "text": [
      "a = 10\n"
     ]
    }
   ],
   "source": [
    "a = 10\n",
    "\n",
    "print(\"a = %d\" %a)"
   ]
  },
  {
   "cell_type": "markdown",
   "id": "077e8e64",
   "metadata": {},
   "source": [
    "## input()"
   ]
  },
  {
   "cell_type": "code",
   "execution_count": 12,
   "id": "236fc050",
   "metadata": {},
   "outputs": [
    {
     "name": "stdout",
     "output_type": "stream",
     "text": [
      "Enter something: f\n"
     ]
    },
    {
     "data": {
      "text/plain": [
       "'f'"
      ]
     },
     "execution_count": 12,
     "metadata": {},
     "output_type": "execute_result"
    }
   ],
   "source": [
    "input(\"Enter something: \")"
   ]
  },
  {
   "cell_type": "code",
   "execution_count": 13,
   "id": "6c0b8a7e",
   "metadata": {
    "scrolled": true
   },
   "outputs": [
    {
     "name": "stdout",
     "output_type": "stream",
     "text": [
      "Enter your name: Ibrahim\n",
      "Ibrahim\n"
     ]
    }
   ],
   "source": [
    "name = input(\"Enter your name: \")\n",
    "print(name)"
   ]
  },
  {
   "attachments": {},
   "cell_type": "markdown",
<<<<<<< HEAD
   "id": "ddf0ad11",
=======
   "id": "9feb8fb3",
>>>>>>> origin/master
   "metadata": {
    "direction": "rtl"
   },
   "source": [
    "\n",
    "## دالة الادخال نوع البيانات فيها دائما string\n",
    "\n"
   ]
  },
  {
   "cell_type": "code",
   "execution_count": 15,
<<<<<<< HEAD
   "id": "83d04fd1",
=======
   "id": "b3338365",
>>>>>>> origin/master
   "metadata": {},
   "outputs": [
    {
     "name": "stdout",
     "output_type": "stream",
     "text": [
      "Enter your name: Omer\n",
      "Omer\n",
      "<class 'str'>\n"
     ]
    }
   ],
   "source": [
    "name = input(\"Enter your name: \")\n",
    "print(name)\n",
    "print(type(name))"
   ]
  },
  {
   "cell_type": "code",
   "execution_count": 16,
<<<<<<< HEAD
   "id": "6987988e",
=======
   "id": "27a9f8a0",
>>>>>>> origin/master
   "metadata": {},
   "outputs": [
    {
     "name": "stdout",
     "output_type": "stream",
     "text": [
      "Enter your age: 24\n",
      "24\n",
      "<class 'str'>\n"
     ]
    }
   ],
   "source": [
    "age = input(\"Enter your age: \")\n",
    "print(age)\n",
    "print(type(age))"
   ]
  },
  {
   "attachments": {},
   "cell_type": "markdown",
<<<<<<< HEAD
   "id": "7a5b9f1d",
=======
   "id": "81ce5001",
>>>>>>> origin/master
   "metadata": {
    "direction": "rtl"
   },
   "source": [
    "\n",
    "## يمكن تغيير النوع باستخدام الدول المحجوزه \n",
    "- int\n",
    "- float\n",
    "- bool\n",
    "\n",
    "و غيرها سوف نتحدث عنها لاحقا"
   ]
  },
  {
   "cell_type": "code",
<<<<<<< HEAD
   "execution_count": 24,
=======
   "execution_count": 17,
>>>>>>> origin/master
   "id": "58b9a15e",
   "metadata": {
    "scrolled": true
   },
   "outputs": [
    {
     "name": "stdout",
     "output_type": "stream",
     "text": [
      "Enter your age: 24\n",
<<<<<<< HEAD
      "Your age is 24\n",
=======
      "24\n",
>>>>>>> origin/master
      "<class 'int'>\n"
     ]
    }
   ],
   "source": [
    "age = int(input(\"Enter your age: \"))\n",
<<<<<<< HEAD
    "print(f\"Your age is {age}\")\n",
=======
    "print(age)\n",
>>>>>>> origin/master
    "print(type(age))"
   ]
  },
  {
   "attachments": {},
   "cell_type": "markdown",
<<<<<<< HEAD
   "id": "71138905",
=======
   "id": "1bb56d66",
>>>>>>> origin/master
   "metadata": {
    "direction": "rtl"
   },
   "source": [
    "\n",
    "## تدريب\n",
    "\n",
    "قم بكتابة برنامج يستقبل من الشخص اسمه و عمره ووزنه يقوم بطباعته \n",
    "\n",
    "- يجب ان يكون الاسم من نوع str\n",
    "- يجب ان يكون العمر من نوع int\n",
    "- يجب ان يكون الوزن من نوع float"
   ]
  },
  {
   "cell_type": "code",
   "execution_count": null,
   "id": "2062b560",
   "metadata": {},
   "outputs": [],
   "source": []
  }
 ],
 "metadata": {
  "celltoolbar": "Edit Metadata",
  "kernelspec": {
   "display_name": "Python 3 (ipykernel)",
   "language": "python",
   "name": "python3"
  },
  "language_info": {
   "codemirror_mode": {
    "name": "ipython",
    "version": 3
   },
   "file_extension": ".py",
   "mimetype": "text/x-python",
   "name": "python",
   "nbconvert_exporter": "python",
   "pygments_lexer": "ipython3",
   "version": "3.9.12"
  }
 },
 "nbformat": 4,
 "nbformat_minor": 5
}